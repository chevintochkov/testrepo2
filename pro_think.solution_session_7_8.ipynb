{
 "cells": [
  {
   "cell_type": "markdown",
   "metadata": {},
   "source": [
    "BUGS TO RESOLVE"
   ]
  },
  {
   "cell_type": "markdown",
   "metadata": {},
   "source": [
    "# 1. For all integers from 0 to n, where n is defined by the user, print\n",
    "- `FizzBuzz` if is divisible by 3 and 5\n",
    "- `Fizz` if i is divisible by 3.\n",
    "- `Buzz` if i is divisible by 5.\n",
    "- ` ` otherwise"
   ]
  },
  {
   "cell_type": "code",
   "execution_count": 3,
   "metadata": {},
   "outputs": [
    {
     "name": "stdout",
     "output_type": "stream",
     "text": [
      "\n",
      "\n",
      "Fizz\n",
      "\n",
      "Buzz\n",
      "Fizz\n",
      "\n",
      "\n",
      "Fizz\n",
      "Buzz\n",
      "\n",
      "Fizz\n",
      "\n",
      "\n",
      "FizzBuzz\n",
      "\n",
      "\n",
      "Fizz\n",
      "\n",
      "Buzz\n",
      "Fizz\n",
      "\n",
      "\n",
      "Fizz\n",
      "Buzz\n",
      "\n",
      "Fizz\n",
      "\n",
      "\n",
      "FizzBuzz\n",
      "\n",
      "\n",
      "Fizz\n",
      "\n",
      "Buzz\n",
      "Fizz\n",
      "\n",
      "\n",
      "Fizz\n",
      "Buzz\n",
      "\n",
      "Fizz\n",
      "\n",
      "\n",
      "FizzBuzz\n",
      "\n",
      "\n",
      "Fizz\n",
      "\n",
      "Buzz\n"
     ]
    }
   ],
   "source": [
    "n = int(input(\"The upper limit of the numbers: \"))\n",
    "i = 1\n",
    "while i <= n:\n",
    "    if i % 15 == 0:\n",
    "        print(\"FizzBuzz\")\n",
    "    elif i % 3 == 0:\n",
    "        print(\"Fizz\")\n",
    "    elif i % 5 == 0:\n",
    "        print(\"Buzz\")\n",
    "    else:\n",
    "        print()\n",
    "\n",
    "    i += 1"
   ]
  },
  {
   "cell_type": "markdown",
   "metadata": {},
   "source": [
    "# 2. Given four integers length, width, height, and mass, representing the dimensions and mass of a box, respectively, print a string representing the category of the box.\n",
    "\n",
    "The box is \"Bulky\" if:\n",
    "- Any of the dimensions of the box is greater or equal to 104.\n",
    "- Or, the volume of the box is greater or equal to 109.\n",
    "\n",
    "- If the mass of the box is greater or equal to 100, it is \"Heavy\".\n",
    "- If the box is both \"Bulky\" and \"Heavy\", then its category is \"Both\".\n",
    "- If the box is neither \"Bulky\" nor \"Heavy\", then its category is \"Neither\".\n",
    "- If the box is \"Bulky\" but not \"Heavy\", then its category is \"Bulky\".\n",
    "- If the box is \"Heavy\" but not \"Bulky\", then its category is \"Heavy\"."
   ]
  },
  {
   "cell_type": "code",
   "execution_count": 1,
   "metadata": {},
   "outputs": [
    {
     "name": "stdout",
     "output_type": "stream",
     "text": [
      "Both\n"
     ]
    }
   ],
   "source": [
    "length = int(input('Length: '))\n",
    "width = int(input('Width: '))\n",
    "height = int(input('Height: '))\n",
    "mass = int(input('Mass: '))\n",
    "product = length * width * height\n",
    "\n",
    "bulky = False\n",
    "\n",
    "if length >= 104 or width >= 104 or height >= 104 or product >= 109:\n",
    "    bulky = True\n",
    "\n",
    "heavy = mass >= 100\n",
    "\n",
    "if bulky and heavy:\n",
    "    print(\"Both\")\n",
    "elif not bulky and not heavy:\n",
    "    print(\"Neither\")\n",
    "elif bulky:\n",
    "    print(\"Bulky\")\n",
    "else:\n",
    "    print(\"Heavy\")"
   ]
  },
  {
   "cell_type": "code",
   "execution_count": null,
   "metadata": {},
   "outputs": [],
   "source": []
  },
  {
   "cell_type": "code",
   "execution_count": null,
   "metadata": {},
   "outputs": [],
   "source": []
  }
 ],
 "metadata": {
  "kernelspec": {
   "display_name": "Python 3",
   "language": "python",
   "name": "python3"
  },
  "language_info": {
   "codemirror_mode": {
    "name": "ipython",
    "version": 3
   },
   "file_extension": ".py",
   "mimetype": "text/x-python",
   "name": "python",
   "nbconvert_exporter": "python",
   "pygments_lexer": "ipython3",
   "version": "3.9.6"
  }
 },
 "nbformat": 4,
 "nbformat_minor": 2
}
